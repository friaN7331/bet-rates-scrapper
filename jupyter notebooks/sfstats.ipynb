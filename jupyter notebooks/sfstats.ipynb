{
 "cells": [
  {
   "cell_type": "code",
   "execution_count": 32,
   "metadata": {},
   "outputs": [],
   "source": [
    "import bs4 as bs\n",
    "\n",
    "html = ''\n",
    "with open(\"data/de1\", \"r\", encoding=\"utf-8\") as file:\n",
    "    html=file.read();"
   ]
  },
  {
   "cell_type": "code",
   "execution_count": 33,
   "metadata": {},
   "outputs": [],
   "source": [
    "html_soup = bs.BeautifulSoup(html, 'lxml')"
   ]
  },
  {
   "cell_type": "code",
   "execution_count": 44,
   "metadata": {},
   "outputs": [],
   "source": [
    "class Match():\n",
    "    \n",
    "    def __init__(self, team_name_home, team_name_away, home, draw, away):\n",
    "        self.team_name_home = team_name_home\n",
    "        self.team_name_away = team_name_away\n",
    "        self.home = home\n",
    "        self.draw = draw\n",
    "        self.away = away\n",
    "    \n",
    "    def to_str(self):\n",
    "        return \"team_name_home=\"+self.team_name_home + \"|team_name_away=\"+self.team_name_away + \"|home=\"+self.home + \"|draw=\"+self.draw + \"|away=\"+self.away\n",
    "\n",
    "def build_match(tds):\n",
    "    return Match(tds[0].get_text(), tds[1].get_text(), tds[2].get_text(), tds[3].get_text(), tds[4].get_text())\n",
    "    "
   ]
  },
  {
   "cell_type": "code",
   "execution_count": 45,
   "metadata": {},
   "outputs": [],
   "source": [
    "next_matches = html_soup.select_one('#contentBlock > div > div.col1_big > table > tbody')\n",
    "\n",
    "matches = []\n",
    "\n",
    "for match in next_matches.find_all('tr', ['tsor1', 'tsor2']):\n",
    "    tds = match.find_all('td')\n",
    "    matches.append(build_match(tds))\n",
    "    \n",
    "    "
   ]
  },
  {
   "cell_type": "code",
   "execution_count": 46,
   "metadata": {},
   "outputs": [
    {
     "name": "stdout",
     "output_type": "stream",
     "text": [
      "team_name_home=Leipzig|team_name_away=Leverkusen|home=2.24|draw=3.52|away=2.99\n",
      "team_name_home=Wolfsburg|team_name_away=Augsburg FC|home=1.99|draw=3.40|away=3.64\n",
      "team_name_home=Stuttgart|team_name_away=Hannover 96|home=1.81|draw=3.48|away=4.30\n",
      "team_name_home=Hoffenheim|team_name_away=Hamburg SV|home=1.42|draw=4.78|away=6.40\n",
      "team_name_home=Hertha Berlin|team_name_away=KÃ¶ln|home=2.07|draw=3.30|away=3.46\n",
      "team_name_home=Leverkusen|team_name_away=Frankfurt Eintracht|home=1.78|draw=3.60|away=4.32\n",
      "team_name_home=Bayern MÃ¼nchen|team_name_away=MÃ¶nchengladbach|home=1.29|draw=5.56|away=9.00\n",
      "team_name_home=Schalke 04|team_name_away=Dortmund|home=2.50|draw=3.35|away=2.66\n",
      "team_name_home=Werder Bremen|team_name_away=Leipzig|home=2.97|draw=3.32|away=2.31\n"
     ]
    }
   ],
   "source": [
    "for match in matches:\n",
    "    print(match.to_str())"
   ]
  },
  {
   "cell_type": "code",
   "execution_count": null,
   "metadata": {},
   "outputs": [],
   "source": []
  }
 ],
 "metadata": {
  "kernelspec": {
   "display_name": "Python 3",
   "language": "python",
   "name": "python3"
  },
  "language_info": {
   "codemirror_mode": {
    "name": "ipython",
    "version": 3
   },
   "file_extension": ".py",
   "mimetype": "text/x-python",
   "name": "python",
   "nbconvert_exporter": "python",
   "pygments_lexer": "ipython3",
   "version": "3.6.4"
  }
 },
 "nbformat": 4,
 "nbformat_minor": 2
}
