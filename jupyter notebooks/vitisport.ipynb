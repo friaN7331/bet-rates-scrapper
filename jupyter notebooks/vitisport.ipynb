{
 "cells": [
  {
   "cell_type": "code",
   "execution_count": null,
   "metadata": {},
   "outputs": [],
   "source": [
    "import bs4 as bs\n",
    "\n",
    "html = ''\n",
    "with open(\"data/de1\", \"r\", encoding=\"utf-8\") as file:\n",
    "    html=file.read();"
   ]
  },
  {
   "cell_type": "code",
   "execution_count": 123,
   "metadata": {},
   "outputs": [],
   "source": [
    "html_soup = bs.BeautifulSoup(html, 'lxml')"
   ]
  },
  {
   "cell_type": "code",
   "execution_count": 159,
   "metadata": {},
   "outputs": [],
   "source": [
    "class Match():\n",
    "    \n",
    "    def __init__(self, team_name_home, team_name_away, home, draw, away):\n",
    "        self.team_name_home = team_name_home\n",
    "        self.team_name_away = team_name_away\n",
    "        self.home = home\n",
    "        self.draw = draw\n",
    "        self.away = away\n",
    "    \n",
    "    def to_str(self):\n",
    "        return \"team_name_home=\"+self.team_name_home + \"|team_name_away=\"+self.team_name_away + \"|home=\"+str(self.home) + \"|draw=\"+str(self.draw) + \"|away=\"+str(self.away)\n",
    "\n",
    "def build_match(tds):\n",
    "    return Match(tds[2].get_text(), tds[3].get_text(), calc_rate(tds[8].get_text().split()[0]), calc_rate(tds[9].get_text().split()[0]), calc_rate(tds[10].get_text().split()[0]))\n",
    "\n",
    "def calc_rate(percent):\n",
    "    return round(100/float(percent), 2)"
   ]
  },
  {
   "cell_type": "code",
   "execution_count": 160,
   "metadata": {},
   "outputs": [],
   "source": [
    "next_matches = html_soup.select_one('#quicktips tbody')"
   ]
  },
  {
   "cell_type": "code",
   "execution_count": 161,
   "metadata": {},
   "outputs": [],
   "source": [
    "viti_matches = []\n",
    "\n",
    "for row in next_matches.select('tr'):\n",
    "    if row.select_one('td.standardbunkaobr') != None:\n",
    "        tds = row.find_all('td')\n",
    "        viti_matches.append(build_match(tds))"
   ]
  },
  {
   "cell_type": "code",
   "execution_count": 162,
   "metadata": {},
   "outputs": [
    {
     "name": "stdout",
     "output_type": "stream",
     "text": [
      "team_name_home= RB Leipzig|team_name_away=Bayer 04 Leverkusen|home=2.22|draw=3.45|away=3.85\n"
     ]
    }
   ],
   "source": [
    "for match in viti_matches:\n",
    "    print(match.to_str())"
   ]
  },
  {
   "cell_type": "code",
   "execution_count": 163,
   "metadata": {},
   "outputs": [
    {
     "data": {
      "text/plain": [
       "'team_name_home= RB Leipzig|team_name_away=Bayer 04 Leverkusen|home=2.22|draw=3.45|away=3.85'"
      ]
     },
     "execution_count": 163,
     "metadata": {},
     "output_type": "execute_result"
    }
   ],
   "source": [
    "str(viti_matches[0].to_str())"
   ]
  },
  {
   "cell_type": "code",
   "execution_count": null,
   "metadata": {},
   "outputs": [],
   "source": []
  }
 ],
 "metadata": {
  "kernelspec": {
   "display_name": "Python 3",
   "language": "python",
   "name": "python3"
  },
  "language_info": {
   "codemirror_mode": {
    "name": "ipython",
    "version": 3
   },
   "file_extension": ".py",
   "mimetype": "text/x-python",
   "name": "python",
   "nbconvert_exporter": "python",
   "pygments_lexer": "ipython3",
   "version": "3.6.4"
  }
 },
 "nbformat": 4,
 "nbformat_minor": 2
}
